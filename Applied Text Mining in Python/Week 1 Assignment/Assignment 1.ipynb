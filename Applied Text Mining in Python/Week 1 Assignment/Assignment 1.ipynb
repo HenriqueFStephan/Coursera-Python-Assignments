{
 "cells": [
  {
   "attachments": {},
   "cell_type": "markdown",
   "metadata": {
    "deletable": false,
    "editable": false,
    "nbgrader": {
     "cell_type": "markdown",
     "checksum": "8c772ba7352e16b900fc8038f346c124",
     "grade": false,
     "grade_id": "cell-8a754c8ce8a16eeb",
     "locked": true,
     "schema_version": 3,
     "solution": false,
     "task": false
    }
   },
   "source": [
    "# Assignment 1\n",
    "\n",
    "In this assignment, you'll be working with messy medical data and using regex to extract relevant infromation from the data. \n",
    "\n",
    "Each line of the `dates.txt` file corresponds to a medical note. Each note has a date that needs to be extracted, but each date is encoded in one of many formats.\n",
    "\n",
    "The goal of this assignment is to correctly identify all of the different date variants encoded in this dataset and to properly normalize and sort the dates. \n",
    "\n",
    "Here is a list of some of the variants you might encounter in this dataset:\n",
    "* 04/20/2009; 04/20/09; 4/20/09; 4/3/09\n",
    "* Mar-20-2009; Mar 20, 2009; March 20, 2009;  Mar. 20, 2009; Mar 20 2009;\n",
    "* 20 Mar 2009; 20 March 2009; 20 Mar. 2009; 20 March, 2009\n",
    "* Mar 20th, 2009; Mar 21st, 2009; Mar 22nd, 2009\n",
    "* Feb 2009; Sep 2009; Oct 2010\n",
    "* 6/2008; 12/2009\n",
    "* 2009; 2010\n",
    "\n",
    "Once you have extracted these date patterns from the text, the next step is to sort them in ascending chronological order accoring to the following rules:\n",
    "* Assume all dates in xx/xx/xx format are mm/dd/yy\n",
    "* Assume all dates where year is encoded in only two digits are years from the 1900's (e.g. 1/5/89 is January 5th, 1989)\n",
    "* If the day is missing (e.g. 9/2009), assume it is the first day of the month (e.g. September 1, 2009).\n",
    "* If the month is missing (e.g. 2010), assume it is the first of January of that year (e.g. January 1, 2010).\n",
    "* Watch out for potential typos as this is a raw, real-life derived dataset.\n",
    "\n",
    "With these rules in mind, find the correct date in each note and return a pandas Series in chronological order of the original Series' indices.\n",
    "\n",
    "For example if the original series was this:\n",
    "\n",
    "    0    1999\n",
    "    1    2010\n",
    "    2    1978\n",
    "    3    2015\n",
    "    4    1985\n",
    "\n",
    "Your function should return this:\n",
    "\n",
    "    0    2\n",
    "    1    4\n",
    "    2    0\n",
    "    3    1\n",
    "    4    3\n",
    "\n",
    "Your score will be calculated using [Kendall's tau](https://en.wikipedia.org/wiki/Kendall_rank_correlation_coefficient), a correlation measure for ordinal data.\n",
    "\n",
    "*This function should return a Series of length 500 and dtype int.*"
   ]
  },
  {
   "cell_type": "code",
   "execution_count": 1,
   "metadata": {
    "deletable": false,
    "editable": false,
    "nbgrader": {
     "cell_type": "code",
     "checksum": "4b47ce38a503bfb1f113580f394d8667",
     "grade": false,
     "grade_id": "cell-28048f36edc32946",
     "locked": true,
     "schema_version": 3,
     "solution": false,
     "task": false
    }
   },
   "outputs": [
    {
     "data": {
      "text/plain": [
       "0         03/25/93 Total time of visit (in minutes):\\n\n",
       "1                       6/18/85 Primary Care Doctor:\\n\n",
       "2    sshe plans to move as of 7/8/71 In-Home Servic...\n",
       "3                7 on 9/27/75 Audit C Score Current:\\n\n",
       "4    2/6/96 sleep studyPain Treatment Pain Level (N...\n",
       "5                    .Per 7/06/79 Movement D/O note:\\n\n",
       "6    4, 5/18/78 Patient's thoughts about current su...\n",
       "7    10/24/89 CPT Code: 90801 - Psychiatric Diagnos...\n",
       "8                         3/7/86 SOS-10 Total Score:\\n\n",
       "9             (4/10/71)Score-1Audit C Score Current:\\n\n",
       "dtype: object"
      ]
     },
     "execution_count": 1,
     "metadata": {},
     "output_type": "execute_result"
    }
   ],
   "source": [
    "import pandas as pd\n",
    "\n",
    "doc = []\n",
    "with open('dates.txt') as file:\n",
    "    for line in file:\n",
    "        doc.append(line)\n",
    "\n",
    "df = pd.Series(doc)\n",
    "df.head(10)"
   ]
  },
  {
   "cell_type": "code",
   "execution_count": 2,
   "metadata": {
    "deletable": false,
    "nbgrader": {
     "cell_type": "code",
     "checksum": "3e58e227860ae4b02d6bdddd81506787",
     "grade": false,
     "grade_id": "cell-d6f35a51303ed6ff",
     "locked": false,
     "schema_version": 3,
     "solution": true,
     "task": false
    }
   },
   "outputs": [],
   "source": [
    "def date_sorter():\n",
    "    \n",
    "    df_dates = df.str.extract(r'(\\d{1,2}[\\/|\\-]\\d{1,2}[\\/|\\-]\\d{2,4})|(\\d{1,2}[\\/|\\-|\\ ](?:Jan|Feb|Mar|Apr|May|Jun|Jul|Aug|Sep|Oct|Nov|Dec)[a-z]*[\\/\\-\\ \\.\\,]*\\d{2,4})|((?:Jan|Feb|Mar|Apr|May|Jun|Jul|Aug|Sep|Oct|Nov|Dec)[a-z]*[\\/\\-\\ \\.\\,]*\\d{1,2}[\\/\\-\\,\\ ]*\\d{2,4})|((?:Jan|Feb|Mar|Apr|May|Jun|Jul|Aug|Sep|Oct|Nov|Dec)[\\/\\-\\ \\.\\,]\\d{1,2}(?:st|nd|th)[\\/\\-\\ \\.\\,]*\\d{2,4})|(\\d{1,2}[\\/]+\\d{4})|([1|2]\\d{3})')\n",
    "    \n",
    "    df_dates_first = df_dates[0].str.extractall(r'(?P<month>\\d{1,2})[\\/|\\-](?P<day>\\d{1,2})[\\/|\\-](?P<year>\\d{2,4})')\n",
    "    df_dates_first['year'] = df_dates_first['year'].map(lambda x: 1900+int(x) if int(x) < 1900 else int(x))\n",
    "    df_dates_first = df_dates_first.astype(int)\n",
    "    \n",
    "    df_dates_second = df_dates[1].str.extractall(r'(?P<day>\\d{1,2})[\\/|\\-|\\ ](?P<month>(?:Jan|Feb|Mar|Apr|May|Jun|Jul|Aug|Sep|Oct|Nov|Dec))[a-z]*[\\/\\-\\ \\.\\,]*(?P<year>\\d{2,4})')\n",
    "    df_dates_second['month'] = df_dates_second['month'].map(lambda x: 1 if x == 'Jan' else x)\n",
    "    df_dates_second['month'] = df_dates_second['month'].map(lambda x: 2 if x == 'Feb' else x)\n",
    "    df_dates_second['month'] = df_dates_second['month'].map(lambda x: 3 if x == 'Mar' else x)\n",
    "    df_dates_second['month'] = df_dates_second['month'].map(lambda x: 4 if x == 'Apr' else x)\n",
    "    df_dates_second['month'] = df_dates_second['month'].map(lambda x: 5 if x == 'May' else x)\n",
    "    df_dates_second['month'] = df_dates_second['month'].map(lambda x: 6 if x == 'Jun' else x)\n",
    "    df_dates_second['month'] = df_dates_second['month'].map(lambda x: 7 if x == 'Jul' else x)\n",
    "    df_dates_second['month'] = df_dates_second['month'].map(lambda x: 8 if x == 'Aug' else x)\n",
    "    df_dates_second['month'] = df_dates_second['month'].map(lambda x: 9 if x == 'Sep' else x)\n",
    "    df_dates_second['month'] = df_dates_second['month'].map(lambda x: 10 if x == 'Oct' else x)\n",
    "    df_dates_second['month'] = df_dates_second['month'].map(lambda x: 11 if x == 'Nov' else x)\n",
    "    df_dates_second['month'] = df_dates_second['month'].map(lambda x: 12 if x == 'Dec' else x)\n",
    "    df_dates_second = df_dates_second.astype(int)\n",
    "    \n",
    "    df_dates_third = df_dates[2][194:228].str.extractall(r'(?P<month>Jan|Feb|Mar|Apr|May|Jun|Jul|Aug|Sep|Oct|Nov|Dec)[a-z]*[\\/\\-\\ \\.\\,]*(?P<day>\\d{2})[\\/\\-\\ \\.\\,]*(?P<year>\\d{2,4})')\n",
    "    df_dates_third['month'] = df_dates_third['month'].map(lambda x: 1 if x == 'Jan' else x)\n",
    "    df_dates_third['month'] = df_dates_third['month'].map(lambda x: 2 if x == 'Feb' else x)\n",
    "    df_dates_third['month'] = df_dates_third['month'].map(lambda x: 3 if x == 'Mar' else x)\n",
    "    df_dates_third['month'] = df_dates_third['month'].map(lambda x: 4 if x == 'Apr' else x)\n",
    "    df_dates_third['month'] = df_dates_third['month'].map(lambda x: 5 if x == 'May' else x)\n",
    "    df_dates_third['month'] = df_dates_third['month'].map(lambda x: 6 if x == 'Jun' else x)\n",
    "    df_dates_third['month'] = df_dates_third['month'].map(lambda x: 7 if x == 'Jul' else x)\n",
    "    df_dates_third['month'] = df_dates_third['month'].map(lambda x: 8 if x == 'Aug' else x)\n",
    "    df_dates_third['month'] = df_dates_third['month'].map(lambda x: 9 if x == 'Sep' else x)\n",
    "    df_dates_third['month'] = df_dates_third['month'].map(lambda x: 10 if x == 'Oct' else x)\n",
    "    df_dates_third['month'] = df_dates_third['month'].map(lambda x: 11 if x == 'Nov' else x)\n",
    "    df_dates_third['month'] = df_dates_third['month'].map(lambda x: 12 if x == 'Dec' else x)\n",
    "    df_dates_third = df_dates_third.astype(int)\n",
    "    \n",
    "    df_dates_six = df_dates[2][228:343].str.extractall(r'(?P<month>Jan|Feb|Mar|Apr|May|Jun|Jul|Aug|Sep|Oct|Nov|Dec)[a-z]*[\\/\\-\\ \\.\\,]*(?P<year>\\d{2,4})')\n",
    "    df_dates_six['day'] = 1\n",
    "    df_dates_six['month'] = df_dates_six['month'].map(lambda x: 1 if x == 'Jan' else x)\n",
    "    df_dates_six['month'] = df_dates_six['month'].map(lambda x: 2 if x == 'Feb' else x)\n",
    "    df_dates_six['month'] = df_dates_six['month'].map(lambda x: 3 if x == 'Mar' else x)\n",
    "    df_dates_six['month'] = df_dates_six['month'].map(lambda x: 4 if x == 'Apr' else x)\n",
    "    df_dates_six['month'] = df_dates_six['month'].map(lambda x: 5 if x == 'May' else x)\n",
    "    df_dates_six['month'] = df_dates_six['month'].map(lambda x: 6 if x == 'Jun' else x)\n",
    "    df_dates_six['month'] = df_dates_six['month'].map(lambda x: 7 if x == 'Jul' else x)\n",
    "    df_dates_six['month'] = df_dates_six['month'].map(lambda x: 8 if x == 'Aug' else x)\n",
    "    df_dates_six['month'] = df_dates_six['month'].map(lambda x: 9 if x == 'Sep' else x)\n",
    "    df_dates_six['month'] = df_dates_six['month'].map(lambda x: 10 if x == 'Oct' else x)\n",
    "    df_dates_six['month'] = df_dates_six['month'].map(lambda x: 11 if x == 'Nov' else x)\n",
    "    df_dates_six['month'] = df_dates_six['month'].map(lambda x: 12 if x == 'Dec' else x)\n",
    "    df_dates_six = df_dates_six.astype(int)\n",
    "      \n",
    "    df_dates_fourth = df_dates[4].str.extractall(r'(?P<month>\\d{1,2})[\\/]+(?P<year>\\d{4})')\n",
    "    df_dates_fourth['day'] = 1\n",
    "    df_dates_fourth = df_dates_fourth.astype(int)\n",
    "        \n",
    "    df_dates_fith = df_dates[5].str.extractall(r'(?P<year>[1|2]\\d{3})')\n",
    "    df_dates_fith['month'] = 1\n",
    "    df_dates_fith['day'] = 1  \n",
    "    df_dates_fith = df_dates_fith.astype(int)\n",
    "            \n",
    "    df_dates_final = pd.concat((df_dates_first, df_dates_second), axis=0, join='outer')\n",
    "    df_dates_final = pd.concat((df_dates_final, df_dates_third), axis=0, join='outer')\n",
    "    df_dates_final = pd.concat((df_dates_final, df_dates_six), axis=0, join='outer')\n",
    "    df_dates_final = pd.concat((df_dates_final, df_dates_fourth), axis=0, join='outer')\n",
    "    df_dates_final = pd.concat((df_dates_final, df_dates_fith), axis=0, join='outer')\n",
    "    df_dates_final.sort_values(['year', 'month', 'day'], inplace=True)\n",
    "    df_dates_final = df_dates_final.reset_index('match')\n",
    "    answer = pd.Series(df_dates_final.index)\n",
    "            \n",
    "    return answer"
   ]
  },
  {
   "cell_type": "code",
   "execution_count": 3,
   "metadata": {
    "deletable": false,
    "editable": false,
    "nbgrader": {
     "cell_type": "code",
     "checksum": "d65c5cbf989f629d2fc4b2195a43ccd9",
     "grade": true,
     "grade_id": "cell-373f878879c00996",
     "locked": true,
     "points": 1,
     "schema_version": 3,
     "solution": false,
     "task": false
    }
   },
   "outputs": [
    {
     "data": {
      "text/plain": [
       "0        9\n",
       "1       84\n",
       "2        2\n",
       "3       53\n",
       "4       28\n",
       "      ... \n",
       "495    427\n",
       "496    141\n",
       "497    186\n",
       "498    161\n",
       "499    413\n",
       "Length: 500, dtype: int64"
      ]
     },
     "execution_count": 3,
     "metadata": {},
     "output_type": "execute_result"
    }
   ],
   "source": [
    "date_sorter()"
   ]
  },
  {
   "cell_type": "code",
   "execution_count": null,
   "metadata": {},
   "outputs": [],
   "source": []
  }
 ],
 "metadata": {
  "coursera": {
   "course_slug": "python-text-mining",
   "graded_item_id": "LvcWI",
   "launcher_item_id": "krne9",
   "part_id": "Mkp1I"
  },
  "kernelspec": {
   "display_name": "Python 3 (ipykernel)",
   "language": "python",
   "name": "python3"
  },
  "language_info": {
   "codemirror_mode": {
    "name": "ipython",
    "version": 3
   },
   "file_extension": ".py",
   "mimetype": "text/x-python",
   "name": "python",
   "nbconvert_exporter": "python",
   "pygments_lexer": "ipython3",
   "version": "3.10.5"
  }
 },
 "nbformat": 4,
 "nbformat_minor": 4
}
