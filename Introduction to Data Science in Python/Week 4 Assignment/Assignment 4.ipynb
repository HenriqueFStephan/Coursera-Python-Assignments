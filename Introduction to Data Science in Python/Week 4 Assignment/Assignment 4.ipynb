{
 "cells": [
  {
   "attachments": {},
   "cell_type": "markdown",
   "metadata": {
    "deletable": false,
    "editable": false,
    "nbgrader": {
     "checksum": "48770f8b5f5d3062d3badd51fcafc401",
     "grade": false,
     "grade_id": "cell-a6c4f74309fc2379",
     "locked": true,
     "schema_version": 1,
     "solution": false
    }
   },
   "source": [
    "# Assignment 4\n",
    "## Description\n",
    "In this assignment you must read in a file of metropolitan regions and associated sports teams from [assets/wikipedia_data.html](assets/wikipedia_data.html) and answer some questions about each metropolitan region. Each of these regions may have one or more teams from the \"Big 4\": NFL (football, in [assets/nfl.csv](assets/nfl.csv)), MLB (baseball, in [assets/mlb.csv](assets/mlb.csv)), NBA (basketball, in [assets/nba.csv](assets/nba.csv) or NHL (hockey, in [assets/nhl.csv](assets/nhl.csv)). Please keep in mind that all questions are from the perspective of the metropolitan region, and that this file is the \"source of authority\" for the location of a given sports team. Thus teams which are commonly known by a different area (e.g. \"Oakland Raiders\") need to be mapped into the metropolitan region given (e.g. San Francisco Bay Area). This will require some human data understanding outside of the data you've been given (e.g. you will have to hand-code some names, and might need to google to find out where teams are)!\n",
    "\n",
    "For each sport I would like you to answer the question: **what is the win/loss ratio's correlation with the population of the city it is in?** Win/Loss ratio refers to the number of wins over the number of wins plus the number of losses. Remember that to calculate the correlation with [`pearsonr`](https://docs.scipy.org/doc/scipy/reference/generated/scipy.stats.pearsonr.html), so you are going to send in two ordered lists of values, the populations from the wikipedia_data.html file and the win/loss ratio for a given sport in the same order. Average the win/loss ratios for those cities which have multiple teams of a single sport. Each sport is worth an equal amount in this assignment (20%\\*4=80%) of the grade for this assignment. You should only use data **from year 2018** for your analysis -- this is important!\n",
    "\n",
    "## Notes\n",
    "\n",
    "1. Do not include data about the MLS or CFL in any of the work you are doing, we're only interested in the Big 4 in this assignment.\n",
    "2. I highly suggest that you first tackle the four correlation questions in order, as they are all similar and worth the majority of grades for this assignment. This is by design!\n",
    "3. It's fair game to talk with peers about high level strategy as well as the relationship between metropolitan areas and sports teams. However, do not post code solving aspects of the assignment (including such as dictionaries mapping areas to teams, or regexes which will clean up names).\n",
    "4. There may be more teams than the assert statements test, remember to collapse multiple teams in one city into a single value!"
   ]
  },
  {
   "attachments": {},
   "cell_type": "markdown",
   "metadata": {
    "deletable": false,
    "editable": false,
    "nbgrader": {
     "checksum": "369ff9ecf0ee04640574205cbc697f94",
     "grade": false,
     "grade_id": "cell-712b2b5da63d4505",
     "locked": true,
     "schema_version": 1,
     "solution": false
    }
   },
   "source": [
    "## Question 1\n",
    "For this question, calculate the win/loss ratio's correlation with the population of the city it is in for the **NHL** using **2018** data."
   ]
  },
  {
   "cell_type": "code",
   "execution_count": 2,
   "metadata": {
    "deletable": false,
    "nbgrader": {
     "checksum": "1cac4803b02502929f5b1612d48db2b5",
     "grade": false,
     "grade_id": "cell-69b16e4386e58030",
     "locked": false,
     "schema_version": 1,
     "solution": true
    }
   },
   "outputs": [],
   "source": [
    "import pandas as pd\n",
    "import numpy as np\n",
    "import scipy.stats as stats\n",
    "import re\n",
    "import lxml\n",
    "\n",
    "def nhl_correlation(): \n",
    "    nhl_df=pd.read_csv(\"assets/nhl.csv\", skipfooter=136, engine='python')\n",
    "    cities=pd.read_html(\"assets/wikipedia_data.html\")[1]\n",
    "    cities=cities.iloc[:-1,[0,3,8]]\n",
    "    nhl_df = nhl_df.drop([0, 9, 18, 26])\n",
    "    nhl_df['Win/Loss Ratio'] = nhl_df['W'].astype(int)/(nhl_df['W'].astype(int) + nhl_df['L'].astype(int))\n",
    "    nhl_df = nhl_df.iloc[:,[0,-1]]\n",
    "    nhl_df['Metropolitan area'] = nhl_df['team'].str.extract('(\\w* \\w*)(?=\\**)', expand =False)\n",
    "    new_metropolitan_names = {'Tampa Bay':'Tampa Bay Area',\n",
    "                             'Boston Bruins':'Boston',\n",
    "                             'Toronto Maple':'Toronto',\n",
    "                             'Florida Panthers':'Miami–Fort Lauderdale',\n",
    "                             'Detroit Red':'Detroit',\n",
    "                             'Montreal Canadiens':'Montreal',\n",
    "                             'Ottawa Senators':'Ottawa',\n",
    "                             'Buffalo Sabres': 'Buffalo',\n",
    "                             'Washington Capitals':'Washington, D.C.',\n",
    "                             'Pittsburgh Penguins':'Pittsburgh',\n",
    "                             'Philadelphia Flyers':'Philadelphia',\n",
    "                             'Columbus Blue':'Columbus',\n",
    "                             'New Jersey':'New York City',\n",
    "                             'Carolina Hurricanes':'Raleigh',\n",
    "                             'New York':'New York City',\n",
    "                             'Nashville Predators':'Nashville',\n",
    "                             'Winnipeg Jets':'Winnipeg',\n",
    "                             'Minnesota Wild':'Minneapolis–Saint Paul',\n",
    "                             'Colorado Avalanche':'Denver',\n",
    "                             ' Louis':'St. Louis',\n",
    "                             'Dallas Stars':'Dallas–Fort Worth',\n",
    "                             'Chicago Blackhawks':'Chicago',\n",
    "                             'Vegas Golden':'Las Vegas',\n",
    "                             'Anaheim Ducks':'Los Angeles',\n",
    "                             'San Jose':'San Francisco Bay Area',\n",
    "                             'Calgary Flames':'Calgary',\n",
    "                             'Edmonton Oilers':'Edmonton',\n",
    "                             'Vancouver Canucks':'Vancouver',\n",
    "                             'Arizona Coyotes':'Phoenix'}\n",
    "    nhl_df['Metropolitan area'] = nhl_df['Metropolitan area'].replace(new_metropolitan_names)\n",
    "    nhl_df = nhl_df.set_index('Metropolitan area')\n",
    "    cities = cities.set_index('Metropolitan area')\n",
    "    df_nhl = pd.merge(cities, nhl_df, how='inner', left_index=True, right_index=True)\n",
    "    df_nhl['Population (2016 est.)[8]'] = df_nhl['Population (2016 est.)[8]'].astype(float)\n",
    "    ratios = df_nhl.groupby('Metropolitan area').agg({'Win/Loss Ratio':np.mean,\n",
    "                                                 'Population (2016 est.)[8]':np.median})    \n",
    "    population_by_region = ratios['Population (2016 est.)[8]'].tolist()\n",
    "    win_loss_by_region = ratios['Win/Loss Ratio'].tolist()\n",
    "\n",
    "    assert len(population_by_region) == len(win_loss_by_region), \"Q1: Your lists must be the same length\"\n",
    "    assert len(population_by_region) == 28, \"Q1: There should be 28 teams being analysed for NHL\"\n",
    "    \n",
    "    return stats.pearsonr(population_by_region, win_loss_by_region)[0]\n"
   ]
  },
  {
   "cell_type": "code",
   "execution_count": 3,
   "metadata": {
    "deletable": false,
    "editable": false,
    "nbgrader": {
     "checksum": "52a581df513c71153e105b93764cda4b",
     "grade": true,
     "grade_id": "cell-ebe0b2dfe1067e63",
     "locked": true,
     "points": 20,
     "schema_version": 1,
     "solution": false
    }
   },
   "outputs": [
    {
     "data": {
      "text/plain": [
       "0.012486162921209907"
      ]
     },
     "metadata": {},
     "output_type": "display_data"
    }
   ],
   "source": [
    "display(nhl_correlation())"
   ]
  },
  {
   "attachments": {},
   "cell_type": "markdown",
   "metadata": {
    "deletable": false,
    "editable": false,
    "nbgrader": {
     "checksum": "988912cae4968d81473f46d783e79c16",
     "grade": false,
     "grade_id": "cell-cb964e690298b71d",
     "locked": true,
     "schema_version": 1,
     "solution": false
    }
   },
   "source": [
    "## Question 2\n",
    "For this question, calculate the win/loss ratio's correlation with the population of the city it is in for the **NBA** using **2018** data."
   ]
  },
  {
   "cell_type": "code",
   "execution_count": 4,
   "metadata": {
    "deletable": false,
    "nbgrader": {
     "checksum": "9394222aafc8ccab0a228098ba0d6010",
     "grade": false,
     "grade_id": "cell-5a5f21279e3d3572",
     "locked": false,
     "schema_version": 1,
     "solution": true
    }
   },
   "outputs": [],
   "source": [
    "import pandas as pd\n",
    "import numpy as np\n",
    "import scipy.stats as stats\n",
    "import re\n",
    "\n",
    "\n",
    "def nba_correlation():\n",
    "    nba_df=pd.read_csv(\"assets/nba.csv\", skipfooter=132, engine='python')\n",
    "    cities=pd.read_html(\"assets/wikipedia_data.html\")[1]\n",
    "    cities=cities.iloc[:-1,[0,3,7]]\n",
    "    nba_df['Win/Loss Ratio'] = nba_df['W'].astype(int)/(nba_df['W'].astype(int) + nba_df['L'].astype(int))\n",
    "    nba_df = nba_df.iloc[:,[0,-1]]\n",
    "    nba_df['Metropolitan area'] = nba_df['team'].str.extract('(.*)(?=\\ \\w*\\**)', expand =False)\n",
    "    new_metropolitan_names = {'Indiana':'Indianapolis',\n",
    "                             'Miami':'Miami–Fort Lauderdale',\n",
    "                             'Washington':'Washington, D.C.',\n",
    "                             'New York':'New York City',\n",
    "                             'Brooklyn':'New York City',\n",
    "                             'Golden State':'San Francisco Bay Area',\n",
    "                             'Portland Trail':'Portland',\n",
    "                             'Utah':'Salt Lake City',\n",
    "                             'Minnesota':'Minneapolis–Saint Paul',\n",
    "                             'Dallas':'Dallas–Fort Worth'}\n",
    "    nba_df['Metropolitan area'] = nba_df['Metropolitan area'].replace(new_metropolitan_names)\n",
    "    nba_df = nba_df.set_index('Metropolitan area')\n",
    "    cities = cities.set_index('Metropolitan area')\n",
    "    df_nba = pd.merge(cities, nba_df, how='inner', left_index=True, right_index=True)\n",
    "    df_nba['Population (2016 est.)[8]'] = df_nba['Population (2016 est.)[8]'].astype(float)\n",
    "    ratios = df_nba.groupby('Metropolitan area').agg({'Win/Loss Ratio':np.mean,\n",
    "                                                 'Population (2016 est.)[8]':np.median})\n",
    "    population_by_region = ratios['Population (2016 est.)[8]'].tolist()\n",
    "    win_loss_by_region = ratios['Win/Loss Ratio'].tolist()\n",
    "    \n",
    "\n",
    "    assert len(population_by_region) == len(win_loss_by_region), \"Q2: Your lists must be the same length\"\n",
    "    assert len(population_by_region) == 28, \"Q2: There should be 28 teams being analysed for NBA\"\n",
    "    return stats.pearsonr(population_by_region, win_loss_by_region)[0]\n"
   ]
  },
  {
   "cell_type": "code",
   "execution_count": 5,
   "metadata": {
    "deletable": false,
    "editable": false,
    "nbgrader": {
     "checksum": "bbdeb8eb22f525a34c10dc8798324e42",
     "grade": true,
     "grade_id": "cell-e573b2b4a282b470",
     "locked": true,
     "points": 20,
     "schema_version": 1,
     "solution": false
    }
   },
   "outputs": [
    {
     "data": {
      "text/plain": [
       "-0.17657160252844623"
      ]
     },
     "metadata": {},
     "output_type": "display_data"
    }
   ],
   "source": [
    "display(nba_correlation())"
   ]
  },
  {
   "attachments": {},
   "cell_type": "markdown",
   "metadata": {
    "deletable": false,
    "editable": false,
    "nbgrader": {
     "checksum": "1a1a5809f675ca033086422007cd73bd",
     "grade": false,
     "grade_id": "cell-96e15e4335df78f4",
     "locked": true,
     "schema_version": 1,
     "solution": false
    }
   },
   "source": [
    "## Question 3\n",
    "For this question, calculate the win/loss ratio's correlation with the population of the city it is in for the **MLB** using **2018** data."
   ]
  },
  {
   "cell_type": "code",
   "execution_count": 6,
   "metadata": {
    "deletable": false,
    "nbgrader": {
     "checksum": "27e8c0da6c9fa0dffc10488314335b6c",
     "grade": false,
     "grade_id": "cell-33b00fc3f3467b0c",
     "locked": false,
     "schema_version": 1,
     "solution": true
    }
   },
   "outputs": [],
   "source": [
    "import pandas as pd\n",
    "import numpy as np\n",
    "import scipy.stats as stats\n",
    "import re\n",
    "\n",
    "\n",
    "def mlb_correlation(): \n",
    "    mlb_df=pd.read_csv(\"assets/mlb.csv\", skipfooter=120, engine='python')\n",
    "    cities=pd.read_html(\"assets/wikipedia_data.html\")[1]\n",
    "    cities=cities.iloc[:-1,[0,3,6]]\n",
    "    mlb_df['Win/Loss Ratio'] = mlb_df['W'].astype(int)/(mlb_df['W'].astype(int) + mlb_df['L'].astype(int))\n",
    "    mlb_df = mlb_df.iloc[:,[0,-1]]\n",
    "    mlb_df['Metropolitan area'] = mlb_df['team'].str.extract('(.*)(?=\\ \\w*\\**)', expand =False)\n",
    "    new_metropolitan_names = {'Tampa Bay':'Tampa Bay Area',\n",
    "                             'Boston Red':'Boston',\n",
    "                             'Toronto Blue':'Toronto',\n",
    "                             'Miami':'Miami–Fort Lauderdale',\n",
    "                             'Baltimore Orioles':'Baltimore',\n",
    "                             'Washington':'Washington, D.C.',\n",
    "                             'New York':'New York City',\n",
    "                             'Minnesota':'Minneapolis–Saint Paul',\n",
    "                             'Texas':'Dallas–Fort Worth',\n",
    "                             'Chicago White':'Chicago',\n",
    "                             'Oakland':'San Francisco Bay Area',\n",
    "                             'San Francisco':'San Francisco Bay Area',\n",
    "                             'Arizona':'Phoenix',\n",
    "                             'Colorado':'Denver'}\n",
    "    mlb_df['Metropolitan area'] = mlb_df['Metropolitan area'].replace(new_metropolitan_names)\n",
    "    mlb_df = mlb_df.set_index('Metropolitan area')\n",
    "    cities = cities.set_index('Metropolitan area')\n",
    "    df_mlb = pd.merge(cities, mlb_df, how='inner', left_index=True, right_index=True)\n",
    "    df_mlb['Population (2016 est.)[8]'] = df_mlb['Population (2016 est.)[8]'].astype(float)\n",
    "    ratios = df_mlb.groupby('Metropolitan area').agg({'Win/Loss Ratio':np.mean,\n",
    "                                                 'Population (2016 est.)[8]':np.median})\n",
    "    population_by_region = ratios['Population (2016 est.)[8]'].tolist()\n",
    "    win_loss_by_region = ratios['Win/Loss Ratio'].tolist()\n",
    "    stats.pearsonr(population_by_region, win_loss_by_region)[0]\n",
    "\n",
    "    assert len(population_by_region) == len(win_loss_by_region), \"Q3: Your lists must be the same length\"\n",
    "    assert len(population_by_region) == 26, \"Q3: There should be 26 teams being analysed for MLB\"\n",
    "\n",
    "    return stats.pearsonr(population_by_region, win_loss_by_region)[0]"
   ]
  },
  {
   "cell_type": "code",
   "execution_count": 7,
   "metadata": {
    "deletable": false,
    "editable": false,
    "nbgrader": {
     "checksum": "cda33b094ba19ccc37a481e0dd29e0bc",
     "grade": true,
     "grade_id": "cell-764d4476f425c5a2",
     "locked": true,
     "points": 20,
     "schema_version": 1,
     "solution": false
    }
   },
   "outputs": [
    {
     "data": {
      "text/plain": [
       "0.15027698302669307"
      ]
     },
     "metadata": {},
     "output_type": "display_data"
    }
   ],
   "source": [
    "display(mlb_correlation())"
   ]
  },
  {
   "attachments": {},
   "cell_type": "markdown",
   "metadata": {
    "deletable": false,
    "editable": false,
    "nbgrader": {
     "checksum": "6977a6da9ed6d8b7a0b7e37bbeda709b",
     "grade": false,
     "grade_id": "cell-793df6c04dfb126e",
     "locked": true,
     "schema_version": 1,
     "solution": false
    }
   },
   "source": [
    "## Question 4\n",
    "For this question, calculate the win/loss ratio's correlation with the population of the city it is in for the **NFL** using **2018** data."
   ]
  },
  {
   "cell_type": "code",
   "execution_count": 8,
   "metadata": {
    "deletable": false,
    "nbgrader": {
     "checksum": "c4914ad1e119278ec2bd567c52640b66",
     "grade": false,
     "grade_id": "cell-8ccebc209aeec8d9",
     "locked": false,
     "schema_version": 1,
     "solution": true
    }
   },
   "outputs": [],
   "source": [
    "import pandas as pd\n",
    "import numpy as np\n",
    "import scipy.stats as stats\n",
    "import re\n",
    "\n",
    "\n",
    "def nfl_correlation(): \n",
    "    nfl_df=pd.read_csv(\"assets/nfl.csv\", skipfooter=160, engine='python')\n",
    "    cities=pd.read_html(\"assets/wikipedia_data.html\")[1]\n",
    "    cities=cities.iloc[:-1,[0,3,5]]\n",
    "    nfl_df = nfl_df.drop([0, 5, 10, 15, 20, 25, 30, 35])\n",
    "    nfl_df['Win/Loss Ratio'] = nfl_df['W'].astype(int)/(nfl_df['W'].astype(int) + nfl_df['L'].astype(int))\n",
    "    nfl_df = nfl_df.iloc[:,[-3,-1]]\n",
    "    nfl_df['Metropolitan area'] = nfl_df['team'].str.extract('(.*)(?=\\ \\w*\\**)', expand =False)\n",
    "    new_metropolitan_names = {'Tampa Bay':'Tampa Bay Area',\n",
    "                             'New England':'Boston',\n",
    "                             'Oakland':'San Francisco Bay Area',\n",
    "                             'San Francisco':'San Francisco Bay Area',\n",
    "                             'Miami':'Miami–Fort Lauderdale',\n",
    "                             'Washington':'Washington, D.C.',\n",
    "                             'Carolina':'Charlotte',\n",
    "                             'New York':'New York City',\n",
    "                             'Tennessee':'Nashville',\n",
    "                             'Minnesota':'Minneapolis–Saint Paul',\n",
    "                             'Dallas':'Dallas–Fort Worth',\n",
    "                             'Arizona':'Phoenix'}\n",
    "    nfl_df['Metropolitan area'] = nfl_df['Metropolitan area'].replace(new_metropolitan_names)\n",
    "    nfl_df = nfl_df.set_index('Metropolitan area')\n",
    "    cities = cities.set_index('Metropolitan area')\n",
    "    df_nfl = pd.merge(cities, nfl_df, how='inner', left_index=True, right_index=True)\n",
    "    df_nfl['Population (2016 est.)[8]'] = df_nfl['Population (2016 est.)[8]'].astype(float)\n",
    "    ratios = df_nfl.groupby('Metropolitan area').agg({'Win/Loss Ratio':np.mean,\n",
    "                                                 'Population (2016 est.)[8]':np.median})\n",
    "    population_by_region = ratios['Population (2016 est.)[8]'].tolist()\n",
    "    win_loss_by_region = ratios['Win/Loss Ratio'].tolist()\n",
    "\n",
    "    assert len(population_by_region) == len(win_loss_by_region), \"Q4: Your lists must be the same length\"\n",
    "    assert len(population_by_region) == 29, \"Q4: There should be 29 teams being analysed for NFL\"\n",
    "\n",
    "    return stats.pearsonr(population_by_region, win_loss_by_region)[0]"
   ]
  },
  {
   "cell_type": "code",
   "execution_count": 9,
   "metadata": {
    "deletable": false,
    "editable": false,
    "nbgrader": {
     "checksum": "e9415d6399aa49e3a1a60813afdefa3b",
     "grade": true,
     "grade_id": "cell-de7b148b9554dbda",
     "locked": true,
     "points": 20,
     "schema_version": 1,
     "solution": false
    }
   },
   "outputs": [
    {
     "data": {
      "text/plain": [
       "0.004922112149349393"
      ]
     },
     "metadata": {},
     "output_type": "display_data"
    }
   ],
   "source": [
    "display(nfl_correlation())"
   ]
  },
  {
   "attachments": {},
   "cell_type": "markdown",
   "metadata": {
    "deletable": false,
    "editable": false,
    "nbgrader": {
     "checksum": "b02d5cd3273f561e4ae939bb2a41740c",
     "grade": false,
     "grade_id": "cell-97b49d8639e908c4",
     "locked": true,
     "schema_version": 1,
     "solution": false
    }
   },
   "source": [
    "## Question 5\n",
    "In this question I would like you to explore the hypothesis that **given that an area has two sports teams in different sports, those teams will perform the same within their respective sports**. How I would like to see this explored is with a series of paired t-tests (so use [`ttest_rel`](https://docs.scipy.org/doc/scipy/reference/generated/scipy.stats.ttest_rel.html)) between all pairs of sports. Are there any sports where we can reject the null hypothesis? Again, average values where a sport has multiple teams in one region. Remember, you will only be including, for each sport, cities which have teams engaged in that sport, drop others as appropriate. This question is worth 20% of the grade for this assignment."
   ]
  },
  {
   "cell_type": "code",
   "execution_count": 11,
   "metadata": {
    "deletable": false,
    "nbgrader": {
     "checksum": "6d78c961eb66f8d8c81f06d33ae8f393",
     "grade": false,
     "grade_id": "cell-92f25f44b8d1179f",
     "locked": false,
     "schema_version": 1,
     "solution": true
    }
   },
   "outputs": [
    {
     "data": {
      "text/html": [
       "<div>\n",
       "<style scoped>\n",
       "    .dataframe tbody tr th:only-of-type {\n",
       "        vertical-align: middle;\n",
       "    }\n",
       "\n",
       "    .dataframe tbody tr th {\n",
       "        vertical-align: top;\n",
       "    }\n",
       "\n",
       "    .dataframe thead th {\n",
       "        text-align: right;\n",
       "    }\n",
       "</style>\n",
       "<table border=\"1\" class=\"dataframe\">\n",
       "  <thead>\n",
       "    <tr style=\"text-align: right;\">\n",
       "      <th></th>\n",
       "      <th>NFL</th>\n",
       "      <th>NBA</th>\n",
       "      <th>NHL</th>\n",
       "      <th>MLB</th>\n",
       "    </tr>\n",
       "  </thead>\n",
       "  <tbody>\n",
       "    <tr>\n",
       "      <th>NFL</th>\n",
       "      <td>NaN</td>\n",
       "      <td>0.941792</td>\n",
       "      <td>0.030883</td>\n",
       "      <td>0.802069</td>\n",
       "    </tr>\n",
       "    <tr>\n",
       "      <th>NBA</th>\n",
       "      <td>0.941792</td>\n",
       "      <td>NaN</td>\n",
       "      <td>0.022297</td>\n",
       "      <td>0.950540</td>\n",
       "    </tr>\n",
       "    <tr>\n",
       "      <th>NHL</th>\n",
       "      <td>0.030883</td>\n",
       "      <td>0.022297</td>\n",
       "      <td>NaN</td>\n",
       "      <td>0.000708</td>\n",
       "    </tr>\n",
       "    <tr>\n",
       "      <th>MLB</th>\n",
       "      <td>0.802069</td>\n",
       "      <td>0.950540</td>\n",
       "      <td>0.000708</td>\n",
       "      <td>NaN</td>\n",
       "    </tr>\n",
       "  </tbody>\n",
       "</table>\n",
       "</div>"
      ],
      "text/plain": [
       "          NFL       NBA       NHL       MLB\n",
       "NFL       NaN  0.941792  0.030883  0.802069\n",
       "NBA  0.941792       NaN  0.022297  0.950540\n",
       "NHL  0.030883  0.022297       NaN  0.000708\n",
       "MLB  0.802069  0.950540  0.000708       NaN"
      ]
     },
     "execution_count": 11,
     "metadata": {},
     "output_type": "execute_result"
    }
   ],
   "source": [
    "import pandas as pd\n",
    "import numpy as np\n",
    "import scipy.stats as stats\n",
    "import re\n",
    "\n",
    "\n",
    "\n",
    "def sports_team_performance():\n",
    "    mlb_df=pd.read_csv(\"assets/mlb.csv\", skipfooter=120, engine='python')\n",
    "    nhl_df=pd.read_csv(\"assets/nhl.csv\", skipfooter=136, engine='python')\n",
    "    nba_df=pd.read_csv(\"assets/nba.csv\", skipfooter=132, engine='python')\n",
    "    nfl_df=pd.read_csv(\"assets/nfl.csv\", skipfooter=160, engine='python')\n",
    "    cities=pd.read_html(\"assets/wikipedia_data.html\")[1]\n",
    "    cities=cities.iloc[:-1,[0,3,5,6,7,8]]\n",
    "    \n",
    "    nhl_df = nhl_df.drop([0, 9, 18, 26])\n",
    "    nhl_df['Win/Loss Ratio'] = nhl_df['W'].astype(int)/(nhl_df['W'].astype(int) + nhl_df['L'].astype(int))\n",
    "    nhl_df = nhl_df.iloc[:,[0,-1]]\n",
    "    nhl_df['Metropolitan area'] = nhl_df['team'].str.extract('(\\w* \\w*)(?=\\**)', expand =False)\n",
    "    new_metropolitan_names = {'Tampa Bay':'Tampa Bay Area',\n",
    "                             'Boston Bruins':'Boston',\n",
    "                             'Toronto Maple':'Toronto',\n",
    "                             'Florida Panthers':'Miami–Fort Lauderdale',\n",
    "                             'Detroit Red':'Detroit',\n",
    "                             'Montreal Canadiens':'Montreal',\n",
    "                             'Ottawa Senators':'Ottawa',\n",
    "                             'Buffalo Sabres': 'Buffalo',\n",
    "                             'Washington Capitals':'Washington, D.C.',\n",
    "                             'Pittsburgh Penguins':'Pittsburgh',\n",
    "                             'Philadelphia Flyers':'Philadelphia',\n",
    "                             'Columbus Blue':'Columbus',\n",
    "                             'New Jersey':'New York City',\n",
    "                             'Carolina Hurricanes':'Raleigh',\n",
    "                             'New York':'New York City',\n",
    "                             'Nashville Predators':'Nashville',\n",
    "                             'Winnipeg Jets':'Winnipeg',\n",
    "                             'Minnesota Wild':'Minneapolis–Saint Paul',\n",
    "                             'Colorado Avalanche':'Denver',\n",
    "                             ' Louis':'St. Louis',\n",
    "                             'Dallas Stars':'Dallas–Fort Worth',\n",
    "                             'Chicago Blackhawks':'Chicago',\n",
    "                             'Vegas Golden':'Las Vegas',\n",
    "                             'Anaheim Ducks':'Los Angeles',\n",
    "                             'San Jose':'San Francisco Bay Area',\n",
    "                             'Calgary Flames':'Calgary',\n",
    "                             'Edmonton Oilers':'Edmonton',\n",
    "                             'Vancouver Canucks':'Vancouver',\n",
    "                             'Arizona Coyotes':'Phoenix'}\n",
    "    nhl_df['Metropolitan area'] = nhl_df['Metropolitan area'].replace(new_metropolitan_names)\n",
    "    nhl_df = nhl_df.set_index('Metropolitan area')\n",
    "    nhl_df = nhl_df.drop(['team'], axis=1)\n",
    "\n",
    "    nba_df['Win/Loss Ratio'] = nba_df['W'].astype(int)/(nba_df['W'].astype(int) + nba_df['L'].astype(int))\n",
    "    nba_df = nba_df.iloc[:,[0,-1]]\n",
    "    nba_df['Metropolitan area'] = nba_df['team'].str.extract('(.*)(?=\\ \\w*\\**)', expand =False)\n",
    "    new_metropolitan_names = {'Indiana':'Indianapolis',\n",
    "                             'Miami':'Miami–Fort Lauderdale',\n",
    "                             'Washington':'Washington, D.C.',\n",
    "                             'New York':'New York City',\n",
    "                             'Brooklyn':'New York City',\n",
    "                             'Golden State':'San Francisco Bay Area',\n",
    "                             'Portland Trail':'Portland',\n",
    "                             'Utah':'Salt Lake City',\n",
    "                             'Minnesota':'Minneapolis–Saint Paul',\n",
    "                             'Dallas':'Dallas–Fort Worth'}\n",
    "    nba_df['Metropolitan area'] = nba_df['Metropolitan area'].replace(new_metropolitan_names)\n",
    "    nba_df = nba_df.set_index('Metropolitan area')\n",
    "    nba_df = nba_df.drop(['team'], axis=1)\n",
    "\n",
    "    mlb_df['Win/Loss Ratio'] = mlb_df['W'].astype(int)/(mlb_df['W'].astype(int) + mlb_df['L'].astype(int))\n",
    "    mlb_df = mlb_df.iloc[:,[0,-1]]\n",
    "    mlb_df['Metropolitan area'] = mlb_df['team'].str.extract('(.*)(?=\\ \\w*\\**)', expand =False)\n",
    "    new_metropolitan_names = {'Tampa Bay':'Tampa Bay Area',\n",
    "                             'Boston Red':'Boston',\n",
    "                             'Toronto Blue':'Toronto',\n",
    "                             'Miami':'Miami–Fort Lauderdale',\n",
    "                             'Baltimore Orioles':'Baltimore',\n",
    "                             'Washington':'Washington, D.C.',\n",
    "                             'New York':'New York City',\n",
    "                             'Minnesota':'Minneapolis–Saint Paul',\n",
    "                             'Texas':'Dallas–Fort Worth',\n",
    "                             'Chicago White':'Chicago',\n",
    "                             'Oakland':'San Francisco Bay Area',\n",
    "                             'San Francisco':'San Francisco Bay Area',\n",
    "                             'Arizona':'Phoenix',\n",
    "                             'Colorado':'Denver'}\n",
    "    mlb_df['Metropolitan area'] = mlb_df['Metropolitan area'].replace(new_metropolitan_names)\n",
    "    mlb_df = mlb_df.set_index('Metropolitan area')\n",
    "    mlb_df = mlb_df.drop(['team'], axis=1)\n",
    "    \n",
    "    nfl_df = nfl_df.drop([0, 5, 10, 15, 20, 25, 30, 35])\n",
    "    nfl_df['Win/Loss Ratio'] = nfl_df['W'].astype(int)/(nfl_df['W'].astype(int) + nfl_df['L'].astype(int))\n",
    "    nfl_df = nfl_df.iloc[:,[-3,-1]]\n",
    "    nfl_df['Metropolitan area'] = nfl_df['team'].str.extract('(.*)(?=\\ \\w*\\**)', expand =False)\n",
    "    new_metropolitan_names = {'Tampa Bay':'Tampa Bay Area',\n",
    "                             'New England':'Boston',\n",
    "                             'Oakland':'San Francisco Bay Area',\n",
    "                             'San Francisco':'San Francisco Bay Area',\n",
    "                             'Miami':'Miami–Fort Lauderdale',\n",
    "                             'Washington':'Washington, D.C.',\n",
    "                             'Carolina':'Charlotte',\n",
    "                             'New York':'New York City',\n",
    "                             'Tennessee':'Nashville',\n",
    "                             'Minnesota':'Minneapolis–Saint Paul',\n",
    "                             'Dallas':'Dallas–Fort Worth',\n",
    "                             'Arizona':'Phoenix'}\n",
    "    nfl_df['Metropolitan area'] = nfl_df['Metropolitan area'].replace(new_metropolitan_names)\n",
    "    nfl_df = nfl_df.set_index('Metropolitan area')\n",
    "    nfl_df = nfl_df.drop(['team'], axis=1)\n",
    "\n",
    "    nhl_mlb = pd.merge(nhl_df, mlb_df, how='inner', left_index=True, right_index=True)\n",
    "    nhl_mlb = nhl_mlb.groupby('Metropolitan area').agg({'Win/Loss Ratio_x':np.mean,\n",
    "                                                   'Win/Loss Ratio_y':np.mean})\n",
    "    nhl_nfl = pd.merge(nhl_df, nfl_df, how='inner', left_index=True, right_index=True)\n",
    "    nhl_nfl = nhl_nfl.groupby('Metropolitan area').agg({'Win/Loss Ratio_x':np.mean,\n",
    "                                                   'Win/Loss Ratio_y':np.mean})\n",
    "    nhl_nba = pd.merge(nhl_df, nba_df, how='inner', left_index=True, right_index=True)\n",
    "    nhl_nba = nhl_nba.groupby('Metropolitan area').agg({'Win/Loss Ratio_x':np.mean,\n",
    "                                                   'Win/Loss Ratio_y':np.mean})\n",
    "    nba_mlb = pd.merge(nba_df, mlb_df, how='inner', left_index=True, right_index=True)\n",
    "    nba_mlb = nba_mlb.groupby('Metropolitan area').agg({'Win/Loss Ratio_x':np.mean,\n",
    "                                                   'Win/Loss Ratio_y':np.mean})\n",
    "    nba_nfl = pd.merge(nba_df, nfl_df, how='inner', left_index=True, right_index=True)\n",
    "    nba_nfl = nba_nfl.groupby('Metropolitan area').agg({'Win/Loss Ratio_x':np.mean,\n",
    "                                                   'Win/Loss Ratio_y':np.mean})\n",
    "    nfl_mlb = pd.merge(nfl_df, mlb_df, how='inner', left_index=True, right_index=True)\n",
    "    nfl_mlb = nfl_mlb.groupby('Metropolitan area').agg({'Win/Loss Ratio_x':np.mean,\n",
    "                                                   'Win/Loss Ratio_y':np.mean})\n",
    "\n",
    "\n",
    "    NHL_NBA = stats.ttest_rel(nhl_nba['Win/Loss Ratio_x'], nhl_nba['Win/Loss Ratio_y'])\n",
    "\n",
    "    NHL_MLB = stats.ttest_rel(nhl_mlb['Win/Loss Ratio_x'], nhl_mlb['Win/Loss Ratio_y'])\n",
    "\n",
    "    NHL_NFL = stats.ttest_rel(nhl_nfl['Win/Loss Ratio_x'], nhl_nfl['Win/Loss Ratio_y'])\n",
    "\n",
    "    NBA_MLB = stats.ttest_rel(nba_mlb['Win/Loss Ratio_x'], nba_mlb['Win/Loss Ratio_y'])\n",
    "\n",
    "    NBA_NFL = stats.ttest_rel(nba_nfl['Win/Loss Ratio_x'], nba_nfl['Win/Loss Ratio_y'])\n",
    "\n",
    "    NFL_MLB = stats.ttest_rel(nfl_mlb['Win/Loss Ratio_x'], nfl_mlb['Win/Loss Ratio_y'])\n",
    "\n",
    "    sports = ['NFL', 'NBA', 'NHL', 'MLB']\n",
    "    p_values = pd.DataFrame({k:np.nan for k in sports}, index=sports)\n",
    "    p_values.loc['NBA', 'NHL'] = NHL_NBA[1]\n",
    "    p_values.loc['NHL', 'NBA'] = NHL_NBA[1]\n",
    "    p_values.loc['NHL', 'MLB'] = NHL_MLB[1]\n",
    "    p_values.loc['MLB', 'NHL'] = NHL_MLB[1]\n",
    "    p_values.loc['NFL', 'NHL'] = NHL_NFL[1]\n",
    "    p_values.loc['NHL', 'NFL'] = NHL_NFL[1]\n",
    "    p_values.loc['NBA', 'MLB'] = NBA_MLB[1]\n",
    "    p_values.loc['MLB', 'NBA'] = NBA_MLB[1]\n",
    "    p_values.loc['NBA', 'NFL'] = NBA_NFL[1]\n",
    "    p_values.loc['NFL', 'NBA'] = NBA_NFL[1]\n",
    "    p_values.loc['NFL', 'MLB'] = NFL_MLB[1]\n",
    "    p_values.loc['MLB', 'NFL'] = NFL_MLB[1]\n",
    "    \n",
    "    assert abs(p_values.loc[\"NBA\", \"NHL\"] - 0.02) <= 1e-2, \"The NBA-NHL p-value should be around 0.02\"\n",
    "    assert abs(p_values.loc[\"MLB\", \"NFL\"] - 0.80) <= 1e-2, \"The MLB-NFL p-value should be around 0.80\"\n",
    "    return p_values\n",
    "sports_team_performance()"
   ]
  },
  {
   "cell_type": "code",
   "execution_count": null,
   "metadata": {
    "deletable": false,
    "editable": false,
    "nbgrader": {
     "checksum": "2a596ab421a45cc01168d10e8fbb8f89",
     "grade": true,
     "grade_id": "cell-fb4b9cb5ff4570a6",
     "locked": true,
     "points": 20,
     "schema_version": 1,
     "solution": false
    }
   },
   "outputs": [],
   "source": []
  }
 ],
 "metadata": {
  "coursera": {
   "schema_names": [
    "mooc_adswpy_1_v2_assignment4"
   ]
  },
  "kernelspec": {
   "display_name": "Python 3",
   "language": "python",
   "name": "python3"
  },
  "language_info": {
   "codemirror_mode": {
    "name": "ipython",
    "version": 3
   },
   "file_extension": ".py",
   "mimetype": "text/x-python",
   "name": "python",
   "nbconvert_exporter": "python",
   "pygments_lexer": "ipython3",
   "version": "3.10.5"
  }
 },
 "nbformat": 4,
 "nbformat_minor": 4
}
